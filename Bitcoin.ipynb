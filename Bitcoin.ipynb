{
  "nbformat": 4,
  "nbformat_minor": 0,
  "metadata": {
    "colab": {
      "name": "Bitcoin",
      "provenance": []
    },
    "kernelspec": {
      "name": "python3",
      "display_name": "Python 3"
    },
    "language_info": {
      "name": "python"
    }
  },
  "cells": [
    {
      "cell_type": "code",
      "metadata": {
        "id": "Z2z3BH6ywtC1"
      },
      "source": [
        "import pandas as pd\n",
        "import numpy as np"
      ],
      "execution_count": 2,
      "outputs": []
    },
    {
      "cell_type": "code",
      "metadata": {
        "colab": {
          "base_uri": "https://localhost:8080/"
        },
        "id": "wpmLEGEhw6qP",
        "outputId": "7fe3eee6-30b6-415f-da2c-73ee7c9f7286"
      },
      "source": [
        "cd drive/MyDrive/Colab\\ Notebooks/Bitcoin"
      ],
      "execution_count": 4,
      "outputs": [
        {
          "output_type": "stream",
          "text": [
            "/content/drive/MyDrive/Colab Notebooks/Bitcoin\n"
          ],
          "name": "stdout"
        }
      ]
    },
    {
      "cell_type": "code",
      "metadata": {
        "colab": {
          "base_uri": "https://localhost:8080/"
        },
        "id": "4A0DlW8vVb9Q",
        "outputId": "91d42d87-4964-4f9f-cb73-8dbfaa946e75"
      },
      "source": [
        "ls"
      ],
      "execution_count": 5,
      "outputs": [
        {
          "output_type": "stream",
          "text": [
            "Bitcoin.ipynb  df1.csv     mempool.csv     Untitled0.ipynb\n",
            "block.txt      df1.gsheet  mempool.gsheet\n"
          ],
          "name": "stdout"
        }
      ]
    },
    {
      "cell_type": "code",
      "metadata": {
        "colab": {
          "base_uri": "https://localhost:8080/",
          "height": 417
        },
        "id": "MnmjwLUyxu_T",
        "outputId": "99955203-50e1-44b2-9a00-45eaf3281e20"
      },
      "source": [
        "df = pd.read_csv(\"mempool.csv\")\n",
        "df"
      ],
      "execution_count": 6,
      "outputs": [
        {
          "output_type": "execute_result",
          "data": {
            "text/html": [
              "<div>\n",
              "<style scoped>\n",
              "    .dataframe tbody tr th:only-of-type {\n",
              "        vertical-align: middle;\n",
              "    }\n",
              "\n",
              "    .dataframe tbody tr th {\n",
              "        vertical-align: top;\n",
              "    }\n",
              "\n",
              "    .dataframe thead th {\n",
              "        text-align: right;\n",
              "    }\n",
              "</style>\n",
              "<table border=\"1\" class=\"dataframe\">\n",
              "  <thead>\n",
              "    <tr style=\"text-align: right;\">\n",
              "      <th></th>\n",
              "      <th>tx_id</th>\n",
              "      <th>fee</th>\n",
              "      <th>weight</th>\n",
              "      <th>parents</th>\n",
              "    </tr>\n",
              "  </thead>\n",
              "  <tbody>\n",
              "    <tr>\n",
              "      <th>0</th>\n",
              "      <td>2e3da8fbc1eaca8ed9b7c2db9e6545d8ccac3c67deadee...</td>\n",
              "      <td>452</td>\n",
              "      <td>1620</td>\n",
              "      <td>NaN</td>\n",
              "    </tr>\n",
              "    <tr>\n",
              "      <th>1</th>\n",
              "      <td>79c51c9d4124c5cbb37a85263748dcf44e182dff83561f...</td>\n",
              "      <td>682</td>\n",
              "      <td>1136</td>\n",
              "      <td>6eb38fad135e38a93cb47a15a5f953cbc0563fd84bf1ab...</td>\n",
              "    </tr>\n",
              "    <tr>\n",
              "      <th>2</th>\n",
              "      <td>b0ef627c8dc2a706475d33d7712209ec779f7a8302aaea...</td>\n",
              "      <td>226</td>\n",
              "      <td>900</td>\n",
              "      <td>NaN</td>\n",
              "    </tr>\n",
              "    <tr>\n",
              "      <th>3</th>\n",
              "      <td>8c25f9be93990b96e8bc363778d6debee6867c7d73cefa...</td>\n",
              "      <td>258</td>\n",
              "      <td>1032</td>\n",
              "      <td>NaN</td>\n",
              "    </tr>\n",
              "    <tr>\n",
              "      <th>4</th>\n",
              "      <td>edc82751537be6afcb21c0229d8d20916d8e742a363ab2...</td>\n",
              "      <td>452</td>\n",
              "      <td>1616</td>\n",
              "      <td>NaN</td>\n",
              "    </tr>\n",
              "    <tr>\n",
              "      <th>...</th>\n",
              "      <td>...</td>\n",
              "      <td>...</td>\n",
              "      <td>...</td>\n",
              "      <td>...</td>\n",
              "    </tr>\n",
              "    <tr>\n",
              "      <th>5209</th>\n",
              "      <td>e0b5d2fe598fccdd716df743323346da227dfc9d2a6c3e...</td>\n",
              "      <td>850</td>\n",
              "      <td>568</td>\n",
              "      <td>NaN</td>\n",
              "    </tr>\n",
              "    <tr>\n",
              "      <th>5210</th>\n",
              "      <td>e33973618a9774aeb85548368efeaddb206ef206717e72...</td>\n",
              "      <td>1496</td>\n",
              "      <td>1488</td>\n",
              "      <td>NaN</td>\n",
              "    </tr>\n",
              "    <tr>\n",
              "      <th>5211</th>\n",
              "      <td>88a8c7118ac82199523eb10670f49c8b7f5ac82d404907...</td>\n",
              "      <td>1121</td>\n",
              "      <td>900</td>\n",
              "      <td>33c7c7bcb1cc07743fc3240cac6af31e4d4a8f535cae71...</td>\n",
              "    </tr>\n",
              "    <tr>\n",
              "      <th>5212</th>\n",
              "      <td>4c5b18c0870665958fc2a377e425b70f8d01f03395af72...</td>\n",
              "      <td>862</td>\n",
              "      <td>576</td>\n",
              "      <td>NaN</td>\n",
              "    </tr>\n",
              "    <tr>\n",
              "      <th>5213</th>\n",
              "      <td>631dee801c00241fc61bccc56112cf7670ce7150f4c642...</td>\n",
              "      <td>850</td>\n",
              "      <td>568</td>\n",
              "      <td>NaN</td>\n",
              "    </tr>\n",
              "  </tbody>\n",
              "</table>\n",
              "<p>5214 rows × 4 columns</p>\n",
              "</div>"
            ],
            "text/plain": [
              "                                                  tx_id  ...                                           parents \n",
              "0     2e3da8fbc1eaca8ed9b7c2db9e6545d8ccac3c67deadee...  ...                                                NaN\n",
              "1     79c51c9d4124c5cbb37a85263748dcf44e182dff83561f...  ...  6eb38fad135e38a93cb47a15a5f953cbc0563fd84bf1ab...\n",
              "2     b0ef627c8dc2a706475d33d7712209ec779f7a8302aaea...  ...                                                NaN\n",
              "3     8c25f9be93990b96e8bc363778d6debee6867c7d73cefa...  ...                                                NaN\n",
              "4     edc82751537be6afcb21c0229d8d20916d8e742a363ab2...  ...                                                NaN\n",
              "...                                                 ...  ...                                                ...\n",
              "5209  e0b5d2fe598fccdd716df743323346da227dfc9d2a6c3e...  ...                                                NaN\n",
              "5210  e33973618a9774aeb85548368efeaddb206ef206717e72...  ...                                                NaN\n",
              "5211  88a8c7118ac82199523eb10670f49c8b7f5ac82d404907...  ...  33c7c7bcb1cc07743fc3240cac6af31e4d4a8f535cae71...\n",
              "5212  4c5b18c0870665958fc2a377e425b70f8d01f03395af72...  ...                                                NaN\n",
              "5213  631dee801c00241fc61bccc56112cf7670ce7150f4c642...  ...                                                NaN\n",
              "\n",
              "[5214 rows x 4 columns]"
            ]
          },
          "metadata": {
            "tags": []
          },
          "execution_count": 6
        }
      ]
    },
    {
      "cell_type": "code",
      "metadata": {
        "id": "mmzTZUND4Q9A"
      },
      "source": [
        "df=df.rename(columns={\"parents \":\"parents\"})"
      ],
      "execution_count": 7,
      "outputs": []
    },
    {
      "cell_type": "code",
      "metadata": {
        "id": "TxaJ3yvI-Ys2"
      },
      "source": [
        "df['density'] = df['fee']/df['weight']\n"
      ],
      "execution_count": 8,
      "outputs": []
    },
    {
      "cell_type": "code",
      "metadata": {
        "colab": {
          "base_uri": "https://localhost:8080/"
        },
        "id": "7wSR2S7fx2S3",
        "outputId": "ec3df025-06da-44cd-8b15-9e95ee5e8f42"
      },
      "source": [
        "print(sum(df.weight))"
      ],
      "execution_count": 9,
      "outputs": [
        {
          "output_type": "stream",
          "text": [
            "10431600\n"
          ],
          "name": "stdout"
        }
      ]
    },
    {
      "cell_type": "code",
      "metadata": {
        "id": "jkutS8_WrwUL"
      },
      "source": [
        "df1 = df.sort_values(by=['density'], ascending=False, ignore_index=True)\n",
        "#df1.to_csv('df1.csv',index=False)"
      ],
      "execution_count": 10,
      "outputs": []
    },
    {
      "cell_type": "code",
      "metadata": {
        "colab": {
          "base_uri": "https://localhost:8080/"
        },
        "id": "QfYiZSR84yxF",
        "outputId": "81ef7e8e-c634-4197-a3f0-8a4df357fa97"
      },
      "source": [
        "df.columns"
      ],
      "execution_count": 12,
      "outputs": [
        {
          "output_type": "execute_result",
          "data": {
            "text/plain": [
              "Index(['tx_id', 'fee', 'weight', 'parents', 'density'], dtype='object')"
            ]
          },
          "metadata": {
            "tags": []
          },
          "execution_count": 12
        }
      ]
    },
    {
      "cell_type": "code",
      "metadata": {
        "colab": {
          "base_uri": "https://localhost:8080/"
        },
        "id": "NR9eV_pKEECL",
        "outputId": "50372ccd-513a-428b-8a74-9df3ddbf9dfd"
      },
      "source": [
        "df1.shape"
      ],
      "execution_count": 11,
      "outputs": [
        {
          "output_type": "execute_result",
          "data": {
            "text/plain": [
              "(5214, 5)"
            ]
          },
          "metadata": {
            "tags": []
          },
          "execution_count": 11
        }
      ]
    },
    {
      "cell_type": "code",
      "metadata": {
        "colab": {
          "base_uri": "https://localhost:8080/"
        },
        "id": "nMTyU6Dr_5j7",
        "outputId": "7cca7391-ac4d-4c42-be09-35db880c6cd3"
      },
      "source": [
        "df1.head()\n",
        "''' Just checking if parents are null or no. Type float indicates it is null, type string indicates it has parents'''\n",
        "if (type(df1['parents'][5209])==float):\n",
        "  print(True)\n",
        "type(df1['parents'][5209]),type(df1['parents'][0])"
      ],
      "execution_count": 13,
      "outputs": [
        {
          "output_type": "execute_result",
          "data": {
            "text/plain": [
              "(str, float)"
            ]
          },
          "metadata": {
            "tags": []
          },
          "execution_count": 13
        }
      ]
    },
    {
      "cell_type": "code",
      "metadata": {
        "colab": {
          "base_uri": "https://localhost:8080/"
        },
        "id": "4GrQgPAGfJGW",
        "outputId": "913c1913-4380-4d8b-d6c6-03707f821921"
      },
      "source": [
        "type(df1['parents'][23])"
      ],
      "execution_count": 14,
      "outputs": [
        {
          "output_type": "execute_result",
          "data": {
            "text/plain": [
              "float"
            ]
          },
          "metadata": {
            "tags": []
          },
          "execution_count": 14
        }
      ]
    },
    {
      "cell_type": "code",
      "metadata": {
        "colab": {
          "base_uri": "https://localhost:8080/",
          "height": 69
        },
        "id": "xjEXhl69_KIy",
        "outputId": "9fe97cf1-e57a-4bb0-8389-f25c0bb0d262"
      },
      "source": [
        "max_weights=0\n",
        "max_fees=0\n",
        "l =[]\n",
        "indices = []\n",
        "flag =0\n",
        "cnt=0\n",
        "while (max_weights < 4000000 ):\n",
        "  \n",
        "  ''' If transaction does not have any parent and the transaction is not already included in the list'''\n",
        "\n",
        "  if (type(df1['parents'][cnt])==float and cnt not in indices):\n",
        "    max_fees = df1['fee'][cnt]+max_fees\n",
        "    max_weights = df1['weight'][cnt]+max_weights\n",
        "    l.append(df1['tx_id'][cnt])\n",
        "    #df1 = df1.drop(df.index[cnt])\n",
        "    indices.append(cnt)\n",
        "    cnt=cnt+1\n",
        "  else:\n",
        "    ''' If transaction has parents print all its parents first'''\n",
        "    if (df1['parents'][cnt] in l and cnt not in indices):\n",
        "      max_fees = df1['fee'][cnt]+max_fees\n",
        "      max_weights = df1['weight'][cnt]+max_weights\n",
        "      l.append(df1['tx_id'][cnt])\n",
        "      #df1 = df1.drop(df.index[cnt])\n",
        "      indices.append(cnt)\n",
        "      #print(cnt)\n",
        "      cnt=cnt+1\n",
        "      \n",
        "    else:\n",
        "      #print(cnt)\n",
        "      #print(cnt, df1[df1['tx_id']==df1['parents'][cnt]].index.values)\n",
        "      idx = cnt\n",
        "     # max_fees = df1['fee'][cnt]+max_fees\n",
        "      #max_weights = df1['weight'][cnt]+max_weights\n",
        "      l1=[]\n",
        "      #print(idx)\n",
        "      if (cnt not in indices):\n",
        "        while (type(df1['parents'][int(idx)])!=float and max_weights<4000000 and int(idx) not in indices):\n",
        "          #print(idx)\n",
        "          #l.append(df1['parents'][cnt])\n",
        "          l1.append(df1['tx_id'][int(idx)])\n",
        "          max_fees = df1['fee'][int(idx)]+max_fees\n",
        "          max_weights = df1['weight'][int(idx)]+max_weights\n",
        "          temp = int(idx)\n",
        "          indices.append(int(idx))\n",
        "          idx=df1[df1['tx_id']==df1['parents'][int(idx)]].index.values\n",
        "          #df1 = df1.drop(df.index[temp])\n",
        "          #print(\"$$$\",type(idx),idx.size)\n",
        "          if (idx.size==0):\n",
        "            flag = 1\n",
        "            break\n",
        "            \n",
        "          # print(\"True\")\n",
        "      # print(\"$$$\",int(idx))\n",
        "        if (flag==0 and int(idx) not in indices):\n",
        "          if (type(df1['parents'][int(idx)])==float and max_weights<4000000):\n",
        "           # print(int(idx),\"***\")\n",
        "            l1.append(df1['tx_id'][int(idx)])\n",
        "            indices.append(int(idx))\n",
        "            max_fees = df1['fee'][int(idx)]+max_fees\n",
        "            max_weights = df1['weight'][int(idx)]+max_weights\n",
        "          # df1 = df1.drop(df.index[int(idx)])\n",
        "          \n",
        "            for i in reversed(l1):\n",
        "              l.append(i)              \n",
        "\n",
        "\n",
        "      # print(df[df[‘Name’]==’Donna’].index.values)\n",
        "      cnt=cnt+1\n",
        "      \n",
        "''' If including the last transaction exceeds the limit, delete it'''\n",
        "if (max_weights>4000000):\n",
        "  idx=df1[df1['tx_id']==l[-1]].index.values\n",
        "  l.pop()\n",
        "  max_fees = max_fees-df1['fee'][int(idx)]\n",
        "  max_weights = max_weights - df1['weight'][int(idx)]\n",
        "print(\"Weights : \", max_weights)\n",
        "print(\"Total Fees:\", max_fees)\n",
        "l[-1]\n",
        "  \n",
        "\n",
        "  "
      ],
      "execution_count": 24,
      "outputs": [
        {
          "output_type": "stream",
          "text": [
            "Weights :  3999036\n",
            "Total Fees: 5724849\n"
          ],
          "name": "stdout"
        },
        {
          "output_type": "execute_result",
          "data": {
            "application/vnd.google.colaboratory.intrinsic+json": {
              "type": "string"
            },
            "text/plain": [
              "'0e3d9051649e81accb7eeaa0fc16c9f23f45044bca53bb66d2b2111160c0cd09'"
            ]
          },
          "metadata": {
            "tags": []
          },
          "execution_count": 24
        }
      ]
    },
    {
      "cell_type": "code",
      "metadata": {
        "colab": {
          "base_uri": "https://localhost:8080/"
        },
        "id": "EcIkRxNTPAkZ",
        "outputId": "89930d6a-4e10-4a5c-d86e-5dadd12313dd"
      },
      "source": [
        "f = open('block.txt','w')\n",
        "for i in l:\n",
        "  f.write(i+\"\\n\")\n",
        "f.close"
      ],
      "execution_count": 28,
      "outputs": [
        {
          "output_type": "execute_result",
          "data": {
            "text/plain": [
              "<function TextIOWrapper.close>"
            ]
          },
          "metadata": {
            "tags": []
          },
          "execution_count": 28
        }
      ]
    },
    {
      "cell_type": "code",
      "metadata": {
        "colab": {
          "base_uri": "https://localhost:8080/"
        },
        "id": "uOOYE52lK5iM",
        "outputId": "05057cd6-ccc5-4fd5-c3d1-83c9af88fad6"
      },
      "source": [
        "s = set(l)\n",
        "len(l), len(s)"
      ],
      "execution_count": 27,
      "outputs": [
        {
          "output_type": "execute_result",
          "data": {
            "text/plain": [
              "(2216, 2216)"
            ]
          },
          "metadata": {
            "tags": []
          },
          "execution_count": 27
        }
      ]
    }
  ]
}